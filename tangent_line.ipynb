{
 "cells": [
  {
   "cell_type": "code",
   "execution_count": 1,
   "metadata": {},
   "outputs": [],
   "source": [
    "import numpy as np\n",
    "import matplotlib.pyplot as plt"
   ]
  },
  {
   "cell_type": "code",
   "execution_count": 2,
   "metadata": {},
   "outputs": [
    {
     "name": "stdout",
     "output_type": "stream",
     "text": [
      "Введите значения X: 5 10 15 20 30 40 60 80 100\n"
     ]
    }
   ],
   "source": [
    "x = list(map(float, input(\"Введите значения X: \").split()))"
   ]
  },
  {
   "cell_type": "code",
   "execution_count": 3,
   "metadata": {},
   "outputs": [
    {
     "name": "stdout",
     "output_type": "stream",
     "text": [
      "Введите значения Y: 125.65 114.3 103.95 94.6 78.25 64.8 44.4 30.4 20.85\n"
     ]
    }
   ],
   "source": [
    "y = list(map(float, input(\"Введите значения Y: \").split()))"
   ]
  },
  {
   "cell_type": "code",
   "execution_count": 5,
   "metadata": {},
   "outputs": [
    {
     "name": "stdout",
     "output_type": "stream",
     "text": [
      "Введите степень уравнения: 3\n"
     ]
    }
   ],
   "source": [
    "n = int(input(\"Введите степень уравнения: \"))"
   ]
  },
  {
   "cell_type": "code",
   "execution_count": 6,
   "metadata": {},
   "outputs": [],
   "source": [
    "p = np.polyfit(x, y, n)"
   ]
  },
  {
   "cell_type": "code",
   "execution_count": 7,
   "metadata": {},
   "outputs": [],
   "source": [
    "yp = np.polyval(p, x)"
   ]
  },
  {
   "cell_type": "code",
   "execution_count": 8,
   "metadata": {},
   "outputs": [
    {
     "name": "stdout",
     "output_type": "stream",
     "text": [
      "[-6.20446170e-05  1.96008631e-02 -2.50710074e+00  1.37518991e+02]\n"
     ]
    }
   ],
   "source": [
    "print(p)"
   ]
  },
  {
   "cell_type": "code",
   "execution_count": 9,
   "metadata": {},
   "outputs": [],
   "source": [
    "def diff(p):\n",
    "    size_p = len(p) - 1\n",
    "    diff_p = []\n",
    "    while size_p > 0:\n",
    "        diff_y_value = size_p*p[len(p)-(size_p + 1)]\n",
    "        size_p = size_p - 1\n",
    "        diff_p.append(diff_y_value)\n",
    "    return diff_p"
   ]
  },
  {
   "cell_type": "code",
   "execution_count": 10,
   "metadata": {},
   "outputs": [
    {
     "name": "stdout",
     "output_type": "stream",
     "text": [
      "[-0.00018613385092387333, 0.03920172624762057, -2.507100742399056]\n"
     ]
    }
   ],
   "source": [
    "print(diff(p))"
   ]
  },
  {
   "cell_type": "code",
   "execution_count": 11,
   "metadata": {},
   "outputs": [],
   "source": [
    "diff_p = diff(p)"
   ]
  },
  {
   "cell_type": "code",
   "execution_count": 12,
   "metadata": {},
   "outputs": [
    {
     "name": "stdout",
     "output_type": "stream",
     "text": [
      "Введите точку для которой необходимо построить касательную к графику функции: 15\n"
     ]
    }
   ],
   "source": [
    "x_x = float(input(\"Введите точку для которой необходимо построить касательную к графику функции: \"))"
   ]
  },
  {
   "cell_type": "code",
   "execution_count": 13,
   "metadata": {},
   "outputs": [],
   "source": [
    "y_yp = np.polyval(p, x_x)\n",
    "y_diff_yp = np.polyval(diff_p, x_x)\n",
    "b = y_yp + y_diff_yp*(-x_x)"
   ]
  },
  {
   "cell_type": "code",
   "execution_count": 14,
   "metadata": {},
   "outputs": [],
   "source": [
    "y_diff_plot = []\n",
    "x_all = np.arange(-145.0 + x_x, 145.0 + x_x)\n",
    "for i in x_all:\n",
    "    l = y_diff_yp*i + b\n",
    "    y_diff_plot.append(l)"
   ]
  },
  {
   "cell_type": "code",
   "execution_count": 15,
   "metadata": {},
   "outputs": [],
   "source": [
    "yp = np.polyval(p, x_all)"
   ]
  },
  {
   "cell_type": "code",
   "execution_count": 16,
   "metadata": {},
   "outputs": [
    {
     "data": {
      "image/png": "[encoded data removed]",
      "text/plain": [
       "<Figure size 432x288 with 1 Axes>"
      ]
     },
     "metadata": {
      "needs_background": "light"
     },
     "output_type": "display_data"
    }
   ],
   "source": [
    "import matplotlib.pyplot as plt\n",
    "plt.plot(x, y, 'bo-', lw = 1, label=u'Function')\n",
    "plt.plot(x_all, yp, 'r', label='Approx')\n",
    "plt.plot(x_all, y_diff_plot, label='Tangent')\n",
    "plt.legend(loc='best')\n",
    "plt.title(u'Plots')\n",
    "plt.xlabel('X')\n",
    "plt.ylabel('Y')\n",
    "plt.grid()\n",
    "plt.show()"
   ]
  }
 ],
 "metadata": {
  "kernelspec": {
   "display_name": "Python 3",
   "language": "python",
   "name": "python3"
  },
  "language_info": {
   "codemirror_mode": {
    "name": "ipython",
    "version": 3
   },
   "file_extension": ".py",
   "mimetype": "text/x-python",
   "name": "python",
   "nbconvert_exporter": "python",
   "pygments_lexer": "ipython3",
   "version": "3.7.0"
  }
 },
 "nbformat": 4,
 "nbformat_minor": 2
}
